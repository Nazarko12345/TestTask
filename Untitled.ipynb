{
 "cells": [
  {
   "cell_type": "code",
   "execution_count": 1,
   "metadata": {},
   "outputs": [],
   "source": [
    "import numpy as np\n",
    "import PIL\n",
    "from PIL import Image\n",
    "from PIL import ImageFilter\n",
    "import os\n",
    "from itertools import product"
   ]
  },
  {
   "cell_type": "code",
   "execution_count": 2,
   "metadata": {},
   "outputs": [],
   "source": [
    "path = 'C:\\\\Users\\\\ADMIN\\\\Desktop\\\\mini-projects-coursera\\\\diff\\\\'"
   ]
  },
  {
   "cell_type": "code",
   "execution_count": 3,
   "metadata": {},
   "outputs": [],
   "source": [
    "def noisehelp(im1,im2,sim):\n",
    "    \n",
    "    mas=[sim(rgb2gray(np.asarray(im1)),rgb2gray(np.asarray(im2.filter(PIL.ImageFilter.GaussianBlur(k))))) for k in [1,3,5,7,15]]\n",
    "    mas.append(sim(rgb2gray(np.asarray(im1)),rgb2gray(np.asarray(im2))))\n",
    "    if max(mas)>0.9:\n",
    "        return True\n",
    "    else:\n",
    "        return False"
   ]
  },
  {
   "cell_type": "code",
   "execution_count": 12,
   "metadata": {},
   "outputs": [],
   "source": [
    "def rgb2gray(rgb):\n",
    "    return np.dot(rgb[...,:3], [0.2989, 0.5870, 0.1140])\n",
    "def conv2d(a, f):\n",
    "    s = f.shape + tuple(np.subtract(a.shape, f.shape) + 1)\n",
    "    strd = np.lib.stride_tricks.as_strided\n",
    "    subM = strd(a, shape = s, strides = a.strides * 2)\n",
    "    return np.einsum('ij,ijkl->kl', f, subM)\n",
    "def metric(im1,im2):\n",
    "    return np.sum((im1-np.mean(im1))*(im2-np.mean(im2)))/np.sqrt((np.sum((im1-np.mean(im1))**2)*(np.sum((im2-np.mean(im2))**2))))\n",
    "def similiar(im1,im2,sim):\n",
    "\n",
    "    gr1=rgb2gray(np.asarray(im1))\n",
    "    gr2=rgb2gray(np.asarray(im2))\n",
    "\n",
    "    res = metric(gr1,gr2)\n",
    "    if res==1.0:\n",
    "        return 'Same'\n",
    "    ##### Noise\n",
    "    laplace_filter = np.array([[0,1,0],[1,-4,1],[0,1,0]])\n",
    "    var1,var2=(conv2d(gr1,laplace_filter).var(),conv2d(gr2,laplace_filter).var())\n",
    "    t=False\n",
    "    if var1/var2>2:\n",
    "        t=noisehelp(im1,im2,sim)\n",
    "    elif var2/var1>2:\n",
    "        t=noisehelp(im2,im1,sim)\n",
    "    if t:\n",
    "        return 'Noise'\n",
    "    elif res<0.2:\n",
    "        return 'Different'\n",
    "    elif  np.abs(shift(gr1,gr2)-shift(gr2,gr1))<0.09:\n",
    "        return 'Similiar'\n",
    "    else:\n",
    "        return 'Different'"
   ]
  },
  {
   "cell_type": "code",
   "execution_count": 13,
   "metadata": {},
   "outputs": [],
   "source": [
    "def shift(gr1,gr2):\n",
    "    gr1n = (gr1-np.mean(gr1))/np.std(gr1)\n",
    "    gr2n = (gr2-np.mean(gr2))/np.std(gr2)\n",
    "    gr11=(gr1-np.mean(gr1))\n",
    "    gr21=(gr2-np.mean(gr2))\n",
    "    np.random.seed(0)\n",
    "    #xx=np.array(np.random.rand(20,2)*500+25,dtype=int)\n",
    "    yy=np.array(np.random.rand(30,2)*500+25,dtype=int)\n",
    "\n",
    "    #zz=list(product([3,187,334,494,200,56],[90,200,310,400]))\n",
    "    s=np.zeros(30)\n",
    "\n",
    "    for r,mas in zip([3,7],[yy,yy]):\n",
    "        #mas =list(product([100,300,500,200],[100,300,500,200]))\n",
    "            corners = [fast_corners(gr1n[i[0]:,i[1]:],1,4) for i in mas]\n",
    "            for ind,i in enumerate(zip(corners,mas)):\n",
    "                    x,y= i[0][0]+i[1][0],i[0][1]+i[1][1]\n",
    "                    field = gr11[x-r:x+r,y-r:y+r]\n",
    "                    ss = np.sum(field*field)\n",
    "                    conv= conv2d(gr21,field)\n",
    "                    X,Y=np.where(conv>ss*0.95)        \n",
    "                    if len(X)>0:\n",
    "                        s[ind]+=1\n",
    "                \n",
    "    print(np.sum(s==2)/(len(yy)))\n",
    "    return np.sum(s==2)/(len(yy))\n",
    "def convv(XY,img,radius,field):\n",
    "    ss = np.sum(field*field)\n",
    "    res=[]\n",
    "    for i in XY:\n",
    "        x,y=(i[0],i[1])\n",
    "        field_ = img[x-radius:x+radius,y-radius:y+radius]\n",
    "        ss_ = np.sum(field_*field)\n",
    "        if ss_>ss*0.9:\n",
    "            res.append(x,y)\n",
    "    return res"
   ]
  },
  {
   "cell_type": "code",
   "execution_count": 14,
   "metadata": {},
   "outputs": [],
   "source": [
    "def fast_corners(img,thresh,r):\n",
    "    i=0\n",
    "    for x in range(r,img.shape[0]-5):\n",
    "        for y in range(r,img.shape[1]-5):\n",
    "            if (img[x][y]+thresh<img[x+r][y] or img[x][y]-thresh>img[x+r][y]) and (img[x][y]+thresh<img[x-r][y] or img[x][y]-thresh>img[x-r][y]):\n",
    "                if (img[x][y]+thresh<img[x][y-r] or img[x][y]-thresh>img[x][y-r]) or (img[x][y]+thresh<img[x][y+r] or img[x][y]-thresh>img[x][y+r]):\n",
    "                    return (x,y)\n",
    "    return 50,50"
   ]
  },
  {
   "cell_type": "code",
   "execution_count": 8,
   "metadata": {},
   "outputs": [],
   "source": [
    "def preprocess(path):\n",
    "    im1 =Image.open(path)\n",
    "    im1=im1.resize((600,600))\n",
    "    return im1"
   ]
  },
  {
   "cell_type": "code",
   "execution_count": 9,
   "metadata": {},
   "outputs": [
    {
     "name": "stdout",
     "output_type": "stream",
     "text": [
      "End read\n"
     ]
    }
   ],
   "source": [
    "def main()\n",
    "    path = 'C:\\\\Users\\\\ADMIN\\\\Desktop\\\\mini-projects-coursera\\\\diff\\\\img\\\\'\n",
    "    files = os.listdir(path)\n",
    "    images = []\n",
    "    for i in files:\n",
    "        images.append(preprocess(path+i))\n",
    "    print('End read')\n",
    "    for i in range(1,len(images)):\n",
    "        for j in range(i+1,len(images)):\n",
    "            state = similiar(images[i],images[j],metric)\n",
    "            if state!='Different':\n",
    "                print(files[i],files[j],state)"
   ]
  },
  {
   "cell_type": "code",
   "execution_count": 11,
   "metadata": {
    "scrolled": false
   },
   "outputs": [
    {
     "name": "stdout",
     "output_type": "stream",
     "text": [
      "0.8666666666666667\n",
      "0.7666666666666667\n",
      "0.9333333333333333\n",
      "0.5666666666666667\n",
      "0.9333333333333333\n",
      "0.3\n",
      "0.9333333333333333\n",
      "0.36666666666666664\n",
      "0.9333333333333333\n",
      "0.36666666666666664\n",
      "0.9333333333333333\n",
      "0.4666666666666667\n",
      "0.9333333333333333\n",
      "0.3333333333333333\n",
      "11.jpg 11_duplicate.jpg ('Same', 1.0)\n",
      "11.jpg 11_modification.jpg ('Noise', 0.9708013732741783)\n",
      "11_duplicate.jpg 11_modification.jpg ('Noise', 0.9708013732741783)\n",
      "1.0\n",
      "0.4666666666666667\n",
      "0.9666666666666667\n",
      "0.0\n",
      "0.5666666666666667\n",
      "0.4666666666666667\n",
      "0.13333333333333333\n",
      "1.0\n",
      "0.8333333333333334\n",
      "0.5666666666666667\n",
      "0.7666666666666667\n",
      "0.6\n",
      "0.9666666666666667\n",
      "0.9333333333333333\n",
      "15.jpg 15_modification.jpg ('Similiar', 0.9321919277129128)\n",
      "0.9333333333333333\n",
      "0.9\n",
      "15.jpg 8.jpg ('Similiar', 0.24800155719943723)\n",
      "0.9333333333333333\n",
      "0.9\n",
      "15_modification.jpg 8.jpg ('Similiar', 0.25043770458090214)\n",
      "1.0\n",
      "0.5\n",
      "1.0\n",
      "0.43333333333333335\n",
      "1.0\n",
      "0.36666666666666664\n",
      "1.0\n",
      "0.3333333333333333\n",
      "1.0\n",
      "1.0\n",
      "4.jpg 4_similar.jpg ('Similiar', 0.44624190905845695)\n",
      "0.9333333333333333\n",
      "0.9\n",
      "6.jpg 6_similar.jpg ('Similiar', 0.6430890030883905)\n"
     ]
    }
   ],
   "source": []
  },
  {
   "cell_type": "code",
   "execution_count": null,
   "metadata": {},
   "outputs": [],
   "source": []
  }
 ],
 "metadata": {
  "kernelspec": {
   "display_name": "Python 3",
   "language": "python",
   "name": "python3"
  },
  "language_info": {
   "codemirror_mode": {
    "name": "ipython",
    "version": 3
   },
   "file_extension": ".py",
   "mimetype": "text/x-python",
   "name": "python",
   "nbconvert_exporter": "python",
   "pygments_lexer": "ipython3",
   "version": "3.7.0"
  }
 },
 "nbformat": 4,
 "nbformat_minor": 2
}
